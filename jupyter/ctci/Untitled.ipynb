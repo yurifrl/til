{
 "cells": [
  {
   "cell_type": "code",
   "execution_count": 3,
   "metadata": {},
   "outputs": [
    {
     "ename": "Error",
     "evalue": "expected expression, found `]`",
     "output_type": "error",
     "traceback": [
      "String[] cars = {\"Volvo\", \"BMW\", \"Ford\", \"Mazda\"};",
      "\u001b[91m       ^\u001b[0m \u001b[94mexpected expression\u001b[0m",
      "expected expression, found `]`"
     ]
    }
   ],
   "source": [
    "String[] cars = {\"Volvo\", \"BMW\", \"Ford\", \"Mazda\"};"
   ]
  },
  {
   "cell_type": "code",
   "execution_count": null,
   "metadata": {},
   "outputs": [],
   "source": []
  }
 ],
 "metadata": {
  "kernelspec": {
   "display_name": "Java - nixpkgs",
   "language": "Java",
   "name": "java_nixpkgs"
  },
  "language_info": {
   "codemirror_mode": "rust",
   "file_extension": ".rs",
   "mimetype": "text/rust",
   "name": "Rust",
   "pygment_lexer": "rust",
   "version": ""
  }
 },
 "nbformat": 4,
 "nbformat_minor": 4
}
