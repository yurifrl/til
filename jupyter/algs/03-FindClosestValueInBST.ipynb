{
 "cells": [
  {
   "cell_type": "markdown",
   "metadata": {},
   "source": [
    "## Find Closest Value In BST"
   ]
  },
  {
   "cell_type": "code",
   "execution_count": 13,
   "metadata": {},
   "outputs": [],
   "source": [
    "package main\n",
    "\n",
    "type BST struct {\n",
    "    Value int\n",
    "\n",
    "    Left  *BST\n",
    "    Right *BST\n",
    "}\n",
    "\n",
    "func NewBST(value int) *BST {\n",
    "    return &BST{Value: value}\n",
    "}\n",
    "\n",
    "func diff(a, b int) int {\n",
    "   if a < b {\n",
    "      return b - a\n",
    "   }\n",
    "   return a - b\n",
    "}\n",
    "\n",
    "root := NewBST(10)\n",
    "root.Left = NewBST(5)\n",
    "root.Left.Left = NewBST(2)\n",
    "root.Left.Left.Left = NewBST(1)\n",
    "root.Left.Right = NewBST(5)\n",
    "root.Right = NewBST(15)\n",
    "root.Right.Left = NewBST(13)\n",
    "root.Right.Left.Right = NewBST(14)\n",
    "root.Right.Right = NewBST(22)\n",
    "\n",
    "expected := 13"
   ]
  },
  {
   "cell_type": "markdown",
   "metadata": {},
   "source": [
    "## Recursive solution"
   ]
  },
  {
   "cell_type": "code",
   "execution_count": 4,
   "metadata": {},
   "outputs": [],
   "source": [
    "package main\n",
    "\n",
    "func (tree *BST) FindClosestValue(target int) int {\n",
    "    return traverse(target, tree.Value, tree)\n",
    "}\n",
    "\n",
    "func traverse(target int, closest int, root *BST) int {\n",
    "    if root == nil {\n",
    "        return closest\n",
    "    }\n",
    "\n",
    "    if diff(target, closest) > diff(target, root.Value) {\n",
    "        closest = root.Value\n",
    "    }\n",
    "\n",
    "    // Is the exact match?\n",
    "    if target == closest {\n",
    "        return closest\n",
    "    }\n",
    "\n",
    "    // Fold Right ???\n",
    "    if target > root.Value {\n",
    "        return traverse(target, closest, root.Right)\n",
    "    }\n",
    "    // Otherwise fold left\n",
    "    return traverse(target, closest, root.Left)\n",
    "}"
   ]
  },
  {
   "cell_type": "code",
   "execution_count": 15,
   "metadata": {},
   "outputs": [
    {
     "ename": "ERROR",
     "evalue": "repl.go:1:1: not a package: \"root\" in root.FindClosestValue <*ast.SelectorExpr>",
     "output_type": "error",
     "traceback": [
      "repl.go:1:1: not a package: \"root\" in root.FindClosestValue <*ast.SelectorExpr>"
     ]
    }
   ],
   "source": [
    "root.FindClosestValue(12) == expected"
   ]
  },
  {
   "cell_type": "markdown",
   "metadata": {},
   "source": [
    "```\n",
    "Average: O(Long(n)) time | O(Log(n)) space\n",
    "Worst: O(N) time | O(n) space\n",
    "```"
   ]
  },
  {
   "cell_type": "markdown",
   "metadata": {},
   "source": [
    "## Iterative Solution"
   ]
  },
  {
   "cell_type": "code",
   "execution_count": null,
   "metadata": {},
   "outputs": [],
   "source": [
    "func (tree *BST) FindClosestValue(target int) int {\n",
    "    closest := tree.Value\n",
    "    currentNode := tree\n",
    "\n",
    "    for currentNode != nil {\n",
    "        if diff(target, closest) > diff(target, currentNode.Value) {\n",
    "            closest = currentNode.Value\n",
    "        }\n",
    "        if target == closest {\n",
    "            currentNode = nil\n",
    "            break\n",
    "        }\n",
    "        if target > currentNode.Value {\n",
    "            currentNode = currentNode.Right\n",
    "        } else {\n",
    "            currentNode = currentNode.Left\n",
    "        }\n",
    "    }\n",
    "    return closest\n",
    "}"
   ]
  },
  {
   "cell_type": "markdown",
   "metadata": {},
   "source": [
    "```\n",
    "Average: O(Long(n)) time | O(1) space\n",
    "Worst: O(N) time | O(1) space\n",
    "```"
   ]
  },
  {
   "cell_type": "markdown",
   "metadata": {},
   "source": [
    "## Notes\n",
    "- use the target to guide you throgh the BST, you can check if you are going left or right if the root.Value is less or greater then the target"
   ]
  }
 ],
 "metadata": {
  "kernelspec": {
   "display_name": "Go - gophernotes",
   "language": "go",
   "name": "gophernotes_gophernotes"
  },
  "language_info": {
   "codemirror_mode": "",
   "file_extension": ".go",
   "mimetype": "",
   "name": "go",
   "nbconvert_exporter": "",
   "pygments_lexer": "",
   "version": "go1.14.2"
  }
 },
 "nbformat": 4,
 "nbformat_minor": 4
}
