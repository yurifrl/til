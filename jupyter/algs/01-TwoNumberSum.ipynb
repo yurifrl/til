{
 "cells": [
  {
   "cell_type": "markdown",
   "metadata": {},
   "source": [
    "# Two Number Sum"
   ]
  },
  {
   "cell_type": "code",
   "execution_count": 26,
   "metadata": {},
   "outputs": [],
   "source": [
    "array := []int{3, 5, -4, 8, 11, 1, -1, 6}\n",
    "targetSum := 10\n",
    "sampleOutput := []int{-1 11}"
   ]
  },
  {
   "cell_type": "markdown",
   "metadata": {},
   "source": [
    "## Using hash-map"
   ]
  },
  {
   "cell_type": "code",
   "execution_count": 24,
   "metadata": {},
   "outputs": [],
   "source": [
    "func TwoNumberSum(array []int, target int) []int {\n",
    "    hm := map[int]bool{}\n",
    "\n",
    "    for _, n := range array {\n",
    "        m := target - n\n",
    "        if _, found := hm[m]; found {\n",
    "            return []int{m, n}\n",
    "        }\n",
    "        hm[n] = true\n",
    "    }\n",
    "    return []int{}\n",
    "}"
   ]
  },
  {
   "cell_type": "code",
   "execution_count": 25,
   "metadata": {},
   "outputs": [
    {
     "data": {
      "text/plain": [
       "[-1 11]"
      ]
     },
     "execution_count": 25,
     "metadata": {},
     "output_type": "execute_result"
    }
   ],
   "source": [
    "TwoNumberSum(array, targetSum)"
   ]
  },
  {
   "cell_type": "markdown",
   "metadata": {},
   "source": [
    "## Using sorted list"
   ]
  },
  {
   "cell_type": "code",
   "execution_count": 18,
   "metadata": {},
   "outputs": [],
   "source": [
    "import (\n",
    "    \"sort\"\n",
    ")\n",
    "\n",
    "func TwoNumberSum(array []int, target int) []int {\n",
    "    sort.Ints(array)\n",
    "\n",
    "    l, r := 0, len(array) -1\n",
    "\n",
    "    for l < r {\n",
    "        sum := array[l] + array[r]\n",
    "\n",
    "        if sum == target {\n",
    "            return []int{array[r], array[l]}\n",
    "        }\n",
    "\n",
    "        if sum < target {\n",
    "            l += 1\n",
    "        } else {\n",
    "            r -= 1\n",
    "        }\n",
    "    }\n",
    "\n",
    "    return []int{}\n",
    "}"
   ]
  },
  {
   "cell_type": "code",
   "execution_count": 19,
   "metadata": {},
   "outputs": [
    {
     "data": {
      "text/plain": [
       "[11 -1]"
      ]
     },
     "execution_count": 19,
     "metadata": {},
     "output_type": "execute_result"
    }
   ],
   "source": [
    "TwoNumberSum(array, targetSum)"
   ]
  }
 ],
 "metadata": {
  "kernelspec": {
   "display_name": "Go - gophernotes",
   "language": "go",
   "name": "gophernotes_gophernotes"
  },
  "language_info": {
   "codemirror_mode": "",
   "file_extension": ".go",
   "mimetype": "",
   "name": "go",
   "nbconvert_exporter": "",
   "pygments_lexer": "",
   "version": "go1.14.2"
  }
 },
 "nbformat": 4,
 "nbformat_minor": 4
}
