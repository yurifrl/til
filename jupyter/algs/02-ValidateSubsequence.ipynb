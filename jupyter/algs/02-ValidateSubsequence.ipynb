{
 "cells": [
  {
   "cell_type": "markdown",
   "metadata": {},
   "source": [
    "# Validate Subsequence"
   ]
  },
  {
   "cell_type": "code",
   "execution_count": 22,
   "metadata": {},
   "outputs": [],
   "source": [
    "array := []int{5, 1, 22, 25, 6, -1, 8, 10}\n",
    "sequence := []int{1, 6, -1, 10}\n",
    "sampleOutput := true"
   ]
  },
  {
   "cell_type": "markdown",
   "metadata": {},
   "source": [
    "## First implementation using one index"
   ]
  },
  {
   "cell_type": "code",
   "execution_count": 16,
   "metadata": {},
   "outputs": [],
   "source": [
    "func IsValidSubsequence(array []int, sequence []int) bool {\n",
    "    for i := range array {\n",
    "        index := len(array)-1-i\n",
    "        if len(sequence) > 0 && sequence[len(sequence) -1] == array[index] {\n",
    "            sequence = sequence[:len(sequence) -1]\n",
    "        }\n",
    "        if len(sequence) == 0 {\n",
    "            return true\n",
    "        }\n",
    "    }\n",
    "    return false\n",
    "}"
   ]
  },
  {
   "cell_type": "code",
   "execution_count": 20,
   "metadata": {},
   "outputs": [
    {
     "data": {
      "text/plain": [
       "true"
      ]
     },
     "execution_count": 20,
     "metadata": {},
     "output_type": "execute_result"
    }
   ],
   "source": [
    "IsValidSubsequence(array, sequence)"
   ]
  },
  {
   "cell_type": "markdown",
   "metadata": {},
   "source": [
    "## Second implementation using two index"
   ]
  },
  {
   "cell_type": "code",
   "execution_count": 17,
   "metadata": {},
   "outputs": [],
   "source": [
    "func IsValidSubsequence(array []int, sequence []int) bool {\n",
    "    si := 0\n",
    "    ai := 0\n",
    "    for si < len(sequence) && ai < len(array) {\n",
    "        if array[ai] == sequence[si] {\n",
    "            si += 1\n",
    "        }\n",
    "        ai += 1\n",
    "    }\n",
    "    return si == len(sequence)\n",
    "}"
   ]
  },
  {
   "cell_type": "code",
   "execution_count": 24,
   "metadata": {},
   "outputs": [
    {
     "data": {
      "text/plain": [
       "true"
      ]
     },
     "execution_count": 24,
     "metadata": {},
     "output_type": "execute_result"
    }
   ],
   "source": [
    "IsValidSubsequence(array, sequence)"
   ]
  },
  {
   "cell_type": "markdown",
   "metadata": {},
   "source": [
    "## Third implementation using two index"
   ]
  },
  {
   "cell_type": "code",
   "execution_count": null,
   "metadata": {},
   "outputs": [],
   "source": [
    "func IsValidSubsequence(array []int, sequence []int) bool {\n",
    "    index := 0\n",
    "    for _, n := range array {\n",
    "        if index == len(sequence) {\n",
    "            break\n",
    "        }\n",
    "        if n == sequence[index] {\n",
    "            index += 1\n",
    "        }\n",
    "    }\n",
    "\n",
    "    return index == len(sequence)\n",
    "}"
   ]
  },
  {
   "cell_type": "code",
   "execution_count": 23,
   "metadata": {},
   "outputs": [
    {
     "data": {
      "text/plain": [
       "true"
      ]
     },
     "execution_count": 23,
     "metadata": {},
     "output_type": "execute_result"
    }
   ],
   "source": [
    "IsValidSubsequence(array, sequence)"
   ]
  },
  {
   "cell_type": "markdown",
   "metadata": {},
   "source": [
    "## Notes\n",
    "\n",
    "- This is an example of subsequence\n",
    "- The trick is the pointer\n",
    "- Time = O(N) Space = O(1)"
   ]
  }
 ],
 "metadata": {
  "kernelspec": {
   "display_name": "Go - gophernotes",
   "language": "go",
   "name": "gophernotes_gophernotes"
  },
  "language_info": {
   "codemirror_mode": "",
   "file_extension": ".go",
   "mimetype": "",
   "name": "go",
   "nbconvert_exporter": "",
   "pygments_lexer": "",
   "version": "go1.14.2"
  }
 },
 "nbformat": 4,
 "nbformat_minor": 4
}
