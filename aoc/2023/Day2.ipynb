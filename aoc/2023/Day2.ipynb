{
 "cells": [
  {
   "cell_type": "markdown",
   "metadata": {},
   "source": [
    "# Advent of Code Day 2"
   ]
  },
  {
   "cell_type": "code",
   "execution_count": null,
   "metadata": {},
   "outputs": [],
   "source": [
    "# Setup\n",
    "from aocd.models import Puzzle\n",
    "\n",
    "# To Clear Cache rm -rf ~/.config/aocd/github.yurifrl.XXXXX\n",
    "\n",
    "# Get the input data\n",
    "puzzle = Puzzle(day=2, year=2023)\n",
    "\n",
    "# Get the imput and parse it\n",
    "input = puzzle.input_data.split('\\n')\n",
    "\n",
    "#\n",
    "[(example, (answerA, answerB))] = [(ex.input_data.split('\\n'), (ex.answer_a, ex.answer_b)) for ex in puzzle.examples]\n",
    "[(example[:1], (answerA, answerB))]"
   ]
  },
  {
   "cell_type": "markdown",
   "metadata": {},
   "source": [
    "# First Part\n",
    "\n",
    "You play several games and record the information from each game (your puzzle input).\n",
    "Each game is listed with its ID number `(like the 11 in Game 11: ...)` followed by a semicolon-separated \n",
    "list of subsets of cubes that were revealed from the bag `(like 3 red, 5 green, 4 blue)`.\n",
    "\n",
    "For example, the record of a few games might look like this:\n",
    "\n",
    "```\n",
    "Game 1: 3 blue, 4 red; 1 red, 2 green, 6 blue; 2 green\n",
    "Game 2: 1 blue, 2 green; 3 green, 4 blue, 1 red; 1 green, 1 blue\n",
    "Game 3: 8 green, 6 blue, 20 red; 5 blue, 4 red, 13 green; 5 green, 1 red\n",
    "Game 4: 1 green, 3 red, 6 blue; 3 green, 6 red; 3 green, 15 blue, 14 red\n",
    "Game 5: 6 red, 1 blue, 3 green; 2 blue, 1 red, 2 green\n",
    "```\n",
    "\n",
    "- In **game 1**, **three** sets of cubes are revealed from the bag (and then put back again). The **first** set is **3 blue** cubes and **4 red** cubes;\n",
    "- the **second** set is **1 red cube**, **2 green cubes**, and **6 blue** cubes; the third set is only **2 green** cubes.\n",
    "\n",
    "The Elf would first like to know which games would have been possible if the bag contained only **12 red** cubes, **13 green** cubes, and **14 blue** cubes?\n",
    "\n",
    "In the example above,\n",
    "- games **1, 2, and 5** would have been possible if the bag had been loaded with that configuration. However,\n",
    "- game 3 would have been impossible because at one point the Elf showed you **20 red** cubes at once; similarly,\n",
    "- game 4 would also have been impossible because the Elf showed you **15 blue** cubes at once.\n",
    "\n",
    "If you add up the IDs of the games that would have been possible, you get **8**.\n",
    "\n",
    "Determine which games would have been possible if the bag had been loaded with only **12 red** cubes, **13 green** cubes, and **14 blue** cubes. What is the sum of the IDs of those games?"
   ]
  },
  {
   "cell_type": "markdown",
   "metadata": {},
   "source": [
    "## Straight to the point\n",
    "\n",
    "- The game unfolds as follows:\n",
    "  1. The bag contains cubes of three colors: red, green, and blue.\n",
    "  2. During each game, the Elf reaches into the bag, takes a handful of random cubes, shows them to you, and then places them back into the bag.\n",
    "  3. These subsets of cubes, along with the game's ID, are recorded and provided to you.\n",
    "- Your task is to determine which games would have been possible if the bag initially contained 12 red cubes, 13 green cubes, and 14 blue cubes.\n",
    "- A game is considered possible if all revealed subsets within that game adhere to the specified cube count limits (i.e., they don't exceed the counts of red, green, and blue cubes).\n",
    "- Calculate the sum of the IDs of the possible games to find the answer."
   ]
  },
  {
   "cell_type": "code",
   "execution_count": null,
   "metadata": {},
   "outputs": [],
   "source": [
    "bag_cubes_initial_state = {\n",
    "                \"red\": 0,\n",
    "                \"green\": 0,\n",
    "                \"blue\": 0\n",
    "            }\n",
    "\n",
    "def bag_parser(input):\n",
    "    game_records = {}\n",
    "\n",
    "    for line in input:\n",
    "        gameid_str, game_data = line.split(\":\")\n",
    "        gameid = int(gameid_str.split(\" \")[1])\n",
    "        game_records[gameid] = []\n",
    "        for game in game_data.split(\";\"):\n",
    "            game_details = game.split(\",\")\n",
    "\n",
    "            turn = {\n",
    "                \"red\": 0,\n",
    "                \"green\": 0,\n",
    "                \"blue\": 0\n",
    "            }\n",
    "            for detail in game_details:\n",
    "                qtd, color = detail.strip().split(' ')\n",
    "                turn[color] = int(qtd)\n",
    "\n",
    "            game_records[gameid].append(turn)\n",
    "\n",
    "    return game_records\n",
    "\n",
    "bag_parser(example)"
   ]
  },
  {
   "cell_type": "code",
   "execution_count": null,
   "metadata": {},
   "outputs": [],
   "source": [
    "bag_cubes_initial_state = {\n",
    "    \"red\": 12,\n",
    "    \"green\": 13,\n",
    "    \"blue\": 14\n",
    "}\n",
    "\n",
    "def partA(input_data):\n",
    "    total_sum = 0\n",
    "    for gameid, turns in input_data.items():\n",
    "        stop = False\n",
    "        for turn in turns:\n",
    "            if stop == True:\n",
    "                continue\n",
    "            if turn[\"red\"] > bag_cubes_initial_state[\"red\"]:\n",
    "                print(f\"{gameid} [Invalid]: {turn} == {bag_cubes_initial_state} -- \")\n",
    "                stop = True\n",
    "                continue\n",
    "            if turn[\"green\"] > bag_cubes_initial_state[\"green\"]:\n",
    "                print(f\"{gameid} [Invalid]: {turn} == {bag_cubes_initial_state} -- \")\n",
    "                stop = True\n",
    "                continue\n",
    "            if turn[\"blue\"] > bag_cubes_initial_state[\"blue\"]:\n",
    "                print(f\"{gameid} [Invalid]: {turn} == {bag_cubes_initial_state} -- \")\n",
    "                stop = True\n",
    "                continue\n",
    "        if stop == True:\n",
    "            continue\n",
    "\n",
    "        total_sum += gameid\n",
    "        print(f\"{gameid} [Valid  ]: {turns} == {bag_cubes_initial_state} -- New Sum: {total_sum}\")  # Debugging\n",
    "\n",
    "    print(f\"Sum {total_sum}\")\n",
    "    return total_sum\n",
    "\n",
    "answerA = partA(bag_parser(example))"
   ]
  },
  {
   "cell_type": "code",
   "execution_count": null,
   "metadata": {},
   "outputs": [],
   "source": [
    "partA(bag_parser(input))"
   ]
  },
  {
   "cell_type": "markdown",
   "metadata": {},
   "source": [
    "# Second Part\n"
   ]
  },
  {
   "cell_type": "markdown",
   "metadata": {},
   "source": [
    "The Elf says they've stopped producing snow because they aren't getting any water!\n",
    "He isn't sure why the water stopped; however, he can show you how to get to the water source to check it out for yourself.\n",
    "It's just up ahead!\n",
    "\n",
    "As you continue your walk, the Elf poses a second question:\n",
    "in each game you played, what is the fewest number of cubes of each color that could have been in the bag to make the game possible?\n",
    "\n",
    "Again consider the example games from earlier:\n",
    "\n",
    "```\n",
    "Game 1: 3 blue, 4 red; 1 red, 2 green, 6 blue; 2 green\n",
    "Game 2: 1 blue, 2 green; 3 green, 4 blue, 1 red; 1 green, 1 blue\n",
    "Game 3: 8 green, 6 blue, 20 red; 5 blue, 4 red, 13 green; 5 green, 1 red\n",
    "Game 4: 1 green, 3 red, 6 blue; 3 green, 6 red; 3 green, 15 blue, 14 red\n",
    "Game 5: 6 red, 1 blue, 3 green; 2 blue, 1 red, 2 green\n",
    "```\n",
    "\n",
    "In game 1, the game could have been played with as few as 4 red, 2 green, and 6 blue cubes.\n",
    "If any color had even one fewer cube, the game would have been impossible.\n",
    "\n",
    "\n",
    "```\n",
    "Game 2 could have been played with a minimum of 1 red, 3 green, and 4 blue cubes.\n",
    "Game 3 must have been played with at least 20 red, 13 green, and 6 blue cubes.\n",
    "Game 4 required at least 14 red, 3 green, and 15 blue cubes.\n",
    "Game 5 needed no fewer than 6 red, 3 green, and 2 blue cubes in the bag.\n",
    "```\n",
    "\n",
    "The power of a set of cubes is equal to the numbers of red, green, and blue cubes multiplied together.\n",
    "The power of the minimum set of cubes in game 1 is 48. In games 2-5 it was 12, 1560, 630, and 36, respectively.\n",
    "Adding up these five powers produces the sum **2286**.\n",
    "\n",
    "For each game, find the minimum set of cubes that must have been present. What is the sum of the power of these sets?"
   ]
  },
  {
   "cell_type": "code",
   "execution_count": null,
   "metadata": {},
   "outputs": [],
   "source": [
    "# B1\n",
    "\n",
    "def partB(input):\n",
    "    return input\n",
    "\n",
    "\n",
    "answerB == partB(bag_parser(example))\n",
    "answerB"
   ]
  },
  {
   "cell_type": "code",
   "execution_count": null,
   "metadata": {},
   "outputs": [],
   "source": [
    "partB(input)"
   ]
  }
 ],
 "metadata": {
  "kernelspec": {
   "display_name": "base",
   "language": "python",
   "name": "python3"
  },
  "language_info": {
   "codemirror_mode": {
    "name": "ipython",
    "version": 3
   },
   "file_extension": ".py",
   "mimetype": "text/x-python",
   "name": "python",
   "nbconvert_exporter": "python",
   "pygments_lexer": "ipython3",
   "version": "3.11.6"
  }
 },
 "nbformat": 4,
 "nbformat_minor": 4
}
