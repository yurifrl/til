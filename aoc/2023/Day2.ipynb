{
 "cells": [
  {
   "cell_type": "markdown",
   "metadata": {},
   "source": [
    "# Advent of Code Day 2"
   ]
  },
  {
   "cell_type": "code",
   "execution_count": 9,
   "metadata": {},
   "outputs": [
    {
     "data": {
      "text/plain": [
       "((['Game 1: 3 blue, 4 red; 1 red, 2 green, 6 blue; 2 green'], 8),\n",
       " ['Game 1: 7 blue, 5 red; 10 red, 7 blue; 5 blue, 4 green, 15 red; 4 green, 6 red, 7 blue; 5 green, 8 blue, 4 red; 5 red, 4 blue, 3 green'])"
      ]
     },
     "execution_count": 9,
     "metadata": {},
     "output_type": "execute_result"
    }
   ],
   "source": [
    "# Setup\n",
    "from aocd.models import Puzzle\n",
    "\n",
    "# Get the input data\n",
    "puzzle = Puzzle(day=2, year=2023)\n",
    "\n",
    "# Get the imput and parse it\n",
    "input = puzzle.input_data.split('\\n')\n",
    "\n",
    "# Using a lambda function to process each example\n",
    "[(exampleA, answerA)] = [(ex.input_data.split('\\n'), int(ex.answer_a or ex.answer_b)) for ex in puzzle.examples]\n",
    "\n",
    "((exampleA[:1], answerA),  input[:1])"
   ]
  },
  {
   "cell_type": "markdown",
   "metadata": {},
   "source": [
    "# First Part\n",
    "\n",
    "You play several games and record the information from each game (your puzzle input).\n",
    "Each game is listed with its ID number `(like the 11 in Game 11: ...)` followed by a semicolon-separated \n",
    "list of subsets of cubes that were revealed from the bag `(like 3 red, 5 green, 4 blue)`.\n",
    "\n",
    "For example, the record of a few games might look like this:\n",
    "\n",
    "```\n",
    "Game 1: 3 blue, 4 red; 1 red, 2 green, 6 blue; 2 green\n",
    "Game 2: 1 blue, 2 green; 3 green, 4 blue, 1 red; 1 green, 1 blue\n",
    "Game 3: 8 green, 6 blue, 20 red; 5 blue, 4 red, 13 green; 5 green, 1 red\n",
    "Game 4: 1 green, 3 red, 6 blue; 3 green, 6 red; 3 green, 15 blue, 14 red\n",
    "Game 5: 6 red, 1 blue, 3 green; 2 blue, 1 red, 2 green\n",
    "```\n",
    "\n",
    "- In **game 1**, **three** sets of cubes are revealed from the bag (and then put back again). The **first** set is **3 blue** cubes and **4 red** cubes;\n",
    "- the **second** set is **1 red cube**, **2 green cubes**, and **6 blue** cubes; the third set is only **2 green** cubes.\n",
    "\n",
    "The Elf would first like to know which games would have been possible if the bag contained only **12 red** cubes, **13 green** cubes, and **14 blue** cubes?\n",
    "\n",
    "In the example above,\n",
    "- games **1, 2, and 5** would have been possible if the bag had been loaded with that configuration. However,\n",
    "- game 3 would have been impossible because at one point the Elf showed you **20 red** cubes at once; similarly,\n",
    "- game 4 would also have been impossible because the Elf showed you **15 blue** cubes at once.\n",
    "\n",
    "If you add up the IDs of the games that would have been possible, you get **8**.\n",
    "\n",
    "Determine which games would have been possible if the bag had been loaded with only **12 red** cubes, **13 green** cubes, and **14 blue** cubes. What is the sum of the IDs of those games?"
   ]
  },
  {
   "cell_type": "markdown",
   "metadata": {},
   "source": [
    "## No flavor\n",
    "\n",
    "- The game unfolds as follows:\n",
    "  1. The bag contains cubes of three colors: red, green, and blue.\n",
    "  2. During each game, the Elf reaches into the bag, takes a handful of random cubes, shows them to you, and then places them back into the bag.\n",
    "  3. These subsets of cubes, along with the game's ID, are recorded and provided to you.\n",
    "- Your task is to determine which games would have been possible if the bag initially contained 12 red cubes, 13 green cubes, and 14 blue cubes.\n",
    "- A game is considered possible if all revealed subsets within that game adhere to the specified cube count limits (i.e., they don't exceed the counts of red, green, and blue cubes).\n",
    "- Calculate the sum of the IDs of the possible games to find the answer."
   ]
  },
  {
   "cell_type": "code",
   "execution_count": 1,
   "metadata": {},
   "outputs": [
    {
     "ename": "NameError",
     "evalue": "name 'answerA' is not defined",
     "output_type": "error",
     "traceback": [
      "\u001b[0;31m---------------------------------------------------------------------------\u001b[0m",
      "\u001b[0;31mNameError\u001b[0m                                 Traceback (most recent call last)",
      "\u001b[1;32m/Users/yuri/Workdir/til/aoc/2023/Day2.ipynb Cell 5\u001b[0m line \u001b[0;36m2\n\u001b[1;32m     <a href='vscode-notebook-cell:/Users/yuri/Workdir/til/aoc/2023/Day2.ipynb#W4sZmlsZQ%3D%3D?line=19'>20</a>\u001b[0m     \u001b[39mprint\u001b[39m(games[\u001b[39m'\u001b[39m\u001b[39mGame 1\u001b[39m\u001b[39m'\u001b[39m])\n\u001b[1;32m     <a href='vscode-notebook-cell:/Users/yuri/Workdir/til/aoc/2023/Day2.ipynb#W4sZmlsZQ%3D%3D?line=20'>21</a>\u001b[0m     \u001b[39mreturn\u001b[39;00m \u001b[39m0\u001b[39m\n\u001b[0;32m---> <a href='vscode-notebook-cell:/Users/yuri/Workdir/til/aoc/2023/Day2.ipynb#W4sZmlsZQ%3D%3D?line=22'>23</a>\u001b[0m answerA \u001b[39m==\u001b[39m partA(exampleA)\n\u001b[1;32m     <a href='vscode-notebook-cell:/Users/yuri/Workdir/til/aoc/2023/Day2.ipynb#W4sZmlsZQ%3D%3D?line=23'>24</a>\u001b[0m exampleA\n",
      "\u001b[0;31mNameError\u001b[0m: name 'answerA' is not defined"
     ]
    }
   ],
   "source": [
    "\n",
    "bag_cubes_initial_state = {\n",
    "    \"reb\": 12,\n",
    "    \"green\": 13,\n",
    "    \"blue\": 14\n",
    "}\n",
    "games = {}\n",
    "def partA(input):\n",
    "    for line in input:\n",
    "        id = line.split(\":\")[0]\n",
    "        unparsed_games = line.split(\":\")[1].split(\";\")\n",
    "        games[id] = []\n",
    "        print(id)\n",
    "        for unparsed_game in unparsed_games:\n",
    "            l = unparsed_game.split(\",\")\n",
    "            sets = {}\n",
    "            for x in l:\n",
    "                print(x.split(','))\n",
    "            # games[id].append()\n",
    "\n",
    "    print(games['Game 1'])\n",
    "    return 0\n",
    "\n",
    "answerA == partA(exampleA)\n",
    "exampleA"
   ]
  },
  {
   "cell_type": "code",
   "execution_count": 16,
   "metadata": {},
   "outputs": [
    {
     "data": {
      "text/plain": [
       "0"
      ]
     },
     "execution_count": 16,
     "metadata": {},
     "output_type": "execute_result"
    }
   ],
   "source": [
    "partA(input)"
   ]
  },
  {
   "cell_type": "markdown",
   "metadata": {},
   "source": [
    "# Second Part\n"
   ]
  },
  {
   "cell_type": "code",
   "execution_count": 165,
   "metadata": {},
   "outputs": [
    {
     "data": {
      "text/plain": [
       "True"
      ]
     },
     "execution_count": 165,
     "metadata": {},
     "output_type": "execute_result"
    }
   ],
   "source": [
    "# B1\n",
    "\n",
    "def partB(input):\n",
    "    return 0\n",
    "\n",
    "answerB == partB(exampleB)"
   ]
  },
  {
   "cell_type": "code",
   "execution_count": 164,
   "metadata": {},
   "outputs": [
    {
     "data": {
      "text/plain": [
       "54706"
      ]
     },
     "execution_count": 164,
     "metadata": {},
     "output_type": "execute_result"
    }
   ],
   "source": [
    "partB(input)"
   ]
  }
 ],
 "metadata": {
  "kernelspec": {
   "display_name": "base",
   "language": "python",
   "name": "python3"
  },
  "language_info": {
   "codemirror_mode": {
    "name": "ipython",
    "version": 3
   },
   "file_extension": ".py",
   "mimetype": "text/x-python",
   "name": "python",
   "nbconvert_exporter": "python",
   "pygments_lexer": "ipython3",
   "version": "3.11.6"
  }
 },
 "nbformat": 4,
 "nbformat_minor": 4
}
