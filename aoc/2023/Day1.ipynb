{
 "cells": [
  {
   "cell_type": "markdown",
   "metadata": {},
   "source": [
    "# Advent of Code Day 1"
   ]
  },
  {
   "cell_type": "code",
   "execution_count": null,
   "metadata": {},
   "outputs": [],
   "source": [
    "#from aocd import submit\n",
    "from aocd.models import Puzzle\n",
    "\n",
    "puzzle = Puzzle(day=1, year=2023)\n",
    "\n",
    "# Get the imput and parse it\n",
    "input = puzzle.input_data.split('\\n')\n",
    "\n",
    "# Using a lambda function to process each example\n",
    "[(exampleA, answerA), (exampleB, answerB)] = [(ex.input_data.split('\\n'), int(ex.answer_a or ex.answer_b)) for ex in puzzle.examples]\n",
    "\n",
    "(set(exampleA[:4]), answerA), (set(exampleB[:4]), answerB), set(input[:2])"
   ]
  },
  {
   "cell_type": "markdown",
   "metadata": {},
   "source": [
    "# First Part\n",
    "The newly-improved calibration document consists of lines of text; each line originally contained a specific calibration value that the Elves now need to recover.\n",
    "\n",
    "On each line, the calibration value can be found by combining the first digit and the last digit (in that order) to form a single two-digit number.\n",
    "\n",
    "For example:\n",
    "\n",
    "```\n",
    "1abc2\n",
    "pqr3stu8vwx\n",
    "a1b2c3d4e5f\n",
    "treb7uchet\n",
    "```\n",
    "\n",
    "In this example, the calibration values of these four lines are 12, 38, 15, and 77. Adding these together produces 142.\n",
    "\n",
    "Consider your entire calibration document. What is the sum of all of the calibration values?"
   ]
  },
  {
   "cell_type": "code",
   "execution_count": null,
   "metadata": {},
   "outputs": [],
   "source": [
    "def partA(input):\n",
    "    result = 0\n",
    "    for line in input:\n",
    "        first = 0\n",
    "        last = 0\n",
    "        if line == \"\":\n",
    "            continue\n",
    "        for c in line:\n",
    "            if not c.isdigit():\n",
    "                continue\n",
    "            if first == 0:\n",
    "                first = c\n",
    "            else:\n",
    "                last = c\n",
    "\n",
    "            if last == 0: \n",
    "                last = first\n",
    "        x = int(first + last)\n",
    "        result += x\n",
    "    return result\n",
    "\n",
    "[\n",
    "    answerA == partA(exampleA),\n",
    "    partA(input)\n",
    "]"
   ]
  },
  {
   "cell_type": "code",
   "execution_count": null,
   "metadata": {},
   "outputs": [],
   "source": [
    "submit(partA(input), part=\"a\", day=1, year=2023)"
   ]
  },
  {
   "cell_type": "markdown",
   "metadata": {},
   "source": [
    "# Second Part\n",
    "\n",
    "Your calculation isn't quite right. It looks like some of the digits are actually spelled out with letters: one, two, three, four, five, six, seven, eight, and nine also count as valid \"digits\".\n",
    "\n",
    "Equipped with this new information, you now need to find the real first and last digit on each line. For example:\n",
    "\n",
    "```\n",
    "two1nine\n",
    "eightwothree\n",
    "abcone2threexyz\n",
    "xtwone3four\n",
    "4nineeightseven2\n",
    "zoneight234\n",
    "7pqrstsixteen\n",
    "```\n",
    "\n",
    "In this example, the calibration values are 29, 83, 13, 24, 42, 14, and 76. Adding these together produces 281."
   ]
  },
  {
   "cell_type": "code",
   "execution_count": null,
   "metadata": {},
   "outputs": [],
   "source": [
    "# B1 Mine\n",
    "import re\n",
    "\n",
    "numbers = {\n",
    "    \"one\": \"1\",\n",
    "    \"two\": \"2\",\n",
    "    \"three\": \"3\",\n",
    "    \"four\": \"4\",\n",
    "    \"five\": \"5\",\n",
    "    \"six\": \"6\",\n",
    "    \"seven\": \"7\",\n",
    "    \"eight\": \"8\",\n",
    "    \"nine\": \"9\"\n",
    "}\n",
    "pattern = r\"(one|two|three|four|five|six|seven|eight|nine|\\d)\"\n",
    "def partB1(input):\n",
    "    result = 0\n",
    "    for line in input:\n",
    "        tokenized_line = re.findall(pattern, line)\n",
    "        convert_tokens = [numbers.get(token, token) for token in tokenized_line]\n",
    "        if len(convert_tokens) >= 2:\n",
    "            result += int(convert_tokens[0] + convert_tokens[-1])\n",
    "        else:\n",
    "            result += int(convert_tokens[0] + convert_tokens[0])\n",
    "    return result\n",
    "\n",
    "answerB == partB1(exampleB)"
   ]
  },
  {
   "cell_type": "code",
   "execution_count": null,
   "metadata": {},
   "outputs": [],
   "source": [
    "# B2 From the internet\n",
    "import re\n",
    "\n",
    "n = \"one two three four five six seven eight nine\".split()\n",
    "p = \"(?=(\" + \"|\".join(n) + \"|\\\\d))\"\n",
    "\n",
    "def f(x):\n",
    "    if x in n:\n",
    "        return str(n.index(x) + 1)\n",
    "    return x\n",
    "\n",
    "def partB2(input):\n",
    "    t = 0\n",
    "    for line in input:\n",
    "        tokens = [*map(f, re.findall(p, line))]\n",
    "        t += int(tokens[0] + tokens[-1])\n",
    "    return t\n",
    "\n",
    "answerB == partB2(exampleB)"
   ]
  },
  {
   "cell_type": "code",
   "execution_count": null,
   "metadata": {},
   "outputs": [],
   "source": [
    "# test the output for when the string has only one number\n",
    "partB1([\"one\", \"zphgdcznqsm2\"]) == partB2([\"one\", \"zphgdcznqsm2\"])"
   ]
  },
  {
   "cell_type": "code",
   "execution_count": null,
   "metadata": {},
   "outputs": [],
   "source": [
    "partB1(input)"
   ]
  }
 ],
 "metadata": {
  "kernelspec": {
   "display_name": "base",
   "language": "python",
   "name": "python3"
  },
  "language_info": {
   "codemirror_mode": {
    "name": "ipython",
    "version": 3
   },
   "file_extension": ".py",
   "mimetype": "text/x-python",
   "name": "python",
   "nbconvert_exporter": "python",
   "pygments_lexer": "ipython3",
   "version": "3.11.6"
  }
 },
 "nbformat": 4,
 "nbformat_minor": 4
}
