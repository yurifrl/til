{
 "cells": [
  {
   "cell_type": "markdown",
   "metadata": {},
   "source": [
    "# Advent of Code Day 3 - Gear Ratios"
   ]
  },
  {
   "cell_type": "code",
   "execution_count": null,
   "metadata": {},
   "outputs": [],
   "source": [
    "# Setup\n",
    "from aocd.models import Puzzle\n",
    "\n",
    "# To Clear Cache rm -rf ~/.config/aocd/github.yurifrl.XXXXX\n",
    "\n",
    "# Get the input data\n",
    "puzzle = Puzzle(day=3, year=2023)\n",
    "\n",
    "# Get the imput and parse it\n",
    "input = puzzle.input_data.split('\\n')\n",
    "\n",
    "#\n",
    "[(example, (answerA, answerB))] = [(ex.input_data.split('\\n'), (ex.answer_a, ex.answer_b)) for ex in puzzle.examples]\n",
    "[(example[:1], (answerA, answerB))]"
   ]
  },
  {
   "cell_type": "markdown",
   "metadata": {},
   "source": [
    "# First Part\n",
    "\n",
    "You and the Elf eventually reach a gondola lift station; he says the gondola lift will take you up to the water source, but this is as far as he can bring you. You go inside.\n",
    "\n",
    "It doesn't take long to find the gondolas, but there seems to be a problem: they're not moving.\n",
    "\n",
    "\"Aaah!\"\n",
    "\n",
    "You turn around to see a slightly-greasy Elf with a wrench and a look of surprise. \"Sorry, I wasn't expecting anyone! The gondola lift isn't working right now; it'll still be a while before I can fix it.\" You offer to help.\n",
    "\n",
    "The engineer explains that an engine part seems to be missing from the engine, but nobody can figure out which one. If you can add up all the part numbers in the engine schematic, it should be easy to work out which part is missing.\n",
    "\n",
    "The engine schematic (your puzzle input) consists of a visual representation of the engine. There are lots of numbers and symbols you don't really understand, but apparently any number adjacent to a symbol, even diagonally, is a \"part number\" and should be included in your sum. (Periods (.) do not count as a symbol.)\n",
    "\n",
    "Here is an example engine schematic:\n",
    "\n",
    "\n",
    "```\n",
    "467..114..\n",
    "...*......\n",
    "..35..633.\n",
    "......#...\n",
    "617*......\n",
    ".....+.58.\n",
    "..592.....\n",
    "......755.\n",
    "...$.*....\n",
    ".664.598..\n",
    "```\n",
    "\n",
    "In this schematic, two numbers are not part numbers because they are not adjacent to a symbol: 114 (top right) and 58 (middle right). Every other number is adjacent to a symbol and so is a part number; their sum is 4361.\n",
    "\n",
    "Of course, the actual engine schematic is much larger. What is the sum of all of the part numbers in the engine schematic?"
   ]
  },
  {
   "cell_type": "markdown",
   "metadata": {},
   "source": [
    "## Summary\n",
    "\n",
    "- Task: Calculate the sum of all \"part numbers\" in an engine schematic.\n",
    "- Criteria: A \"part number\" is any number adjacent to a symbol (excluding periods) in the schematic.\n",
    "- Example Result: In the provided example, sum of part numbers is 4361.\n",
    "- Goal: Find the sum of part numbers in the actual, larger schematic."
   ]
  },
  {
   "cell_type": "code",
   "execution_count": null,
   "metadata": {},
   "outputs": [],
   "source": [
    "def partA(input):\n",
    "    \n",
    "    return 0\n",
    "\n",
    "answerA = partA(example)"
   ]
  },
  {
   "cell_type": "code",
   "execution_count": null,
   "metadata": {},
   "outputs": [],
   "source": [
    "partA(input)"
   ]
  },
  {
   "cell_type": "markdown",
   "metadata": {},
   "source": [
    "# Second Part\n",
    "TODO"
   ]
  },
  {
   "cell_type": "markdown",
   "metadata": {},
   "source": [
    "## Summary\n",
    "TODO"
   ]
  },
  {
   "cell_type": "code",
   "execution_count": null,
   "metadata": {},
   "outputs": [],
   "source": [
    "def partB(input):\n",
    "    return 0\n",
    "\n",
    "answerB == partB(example)\n",
    "answerB"
   ]
  },
  {
   "cell_type": "code",
   "execution_count": null,
   "metadata": {},
   "outputs": [],
   "source": [
    "partB(input)"
   ]
  }
 ],
 "metadata": {
  "kernelspec": {
   "display_name": "Python 3",
   "language": "python",
   "name": "python3"
  },
  "language_info": {
   "codemirror_mode": {
    "name": "ipython",
    "version": 3
   },
   "file_extension": ".py",
   "mimetype": "text/x-python",
   "name": "python",
   "nbconvert_exporter": "python",
   "pygments_lexer": "ipython3",
   "version": "3.11.6"
  }
 },
 "nbformat": 4,
 "nbformat_minor": 2
}
